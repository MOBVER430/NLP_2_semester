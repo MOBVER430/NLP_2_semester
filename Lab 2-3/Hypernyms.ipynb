{
  "nbformat": 4,
  "nbformat_minor": 0,
  "metadata": {
    "kernelspec": {
      "display_name": "Python 3",
      "language": "python",
      "name": "python3"
    },
    "language_info": {
      "codemirror_mode": {
        "name": "ipython",
        "version": 3
      },
      "file_extension": ".py",
      "mimetype": "text/x-python",
      "name": "python",
      "nbconvert_exporter": "python",
      "pygments_lexer": "ipython3",
      "version": "3.7.4"
    },
    "colab": {
      "name": "Hypernyms.ipynb",
      "provenance": [],
      "collapsed_sections": [],
      "toc_visible": true
    },
    "widgets": {
      "application/vnd.jupyter.widget-state+json": {
        "45c425f9746945ad94238c753253b3ae": {
          "model_module": "@jupyter-widgets/controls",
          "model_name": "ButtonModel",
          "state": {
            "_view_name": "ButtonView",
            "style": "IPY_MODEL_c0e3333fcc014c79b3f4bad36c4393ea",
            "_dom_classes": [],
            "description": "Draw",
            "_model_name": "ButtonModel",
            "button_style": "",
            "_view_module": "@jupyter-widgets/controls",
            "_model_module_version": "1.5.0",
            "tooltip": "",
            "_view_count": null,
            "disabled": false,
            "_view_module_version": "1.5.0",
            "layout": "IPY_MODEL_85f464381f5b4760983da2e9d538b516",
            "_model_module": "@jupyter-widgets/controls",
            "icon": ""
          }
        },
        "c0e3333fcc014c79b3f4bad36c4393ea": {
          "model_module": "@jupyter-widgets/controls",
          "model_name": "ButtonStyleModel",
          "state": {
            "_view_name": "StyleView",
            "_model_name": "ButtonStyleModel",
            "_view_module": "@jupyter-widgets/base",
            "_model_module_version": "1.5.0",
            "_view_count": null,
            "button_color": null,
            "font_weight": "",
            "_view_module_version": "1.2.0",
            "_model_module": "@jupyter-widgets/controls"
          }
        },
        "85f464381f5b4760983da2e9d538b516": {
          "model_module": "@jupyter-widgets/base",
          "model_name": "LayoutModel",
          "state": {
            "_view_name": "LayoutView",
            "grid_template_rows": null,
            "right": null,
            "justify_content": null,
            "_view_module": "@jupyter-widgets/base",
            "overflow": null,
            "_model_module_version": "1.2.0",
            "_view_count": null,
            "flex_flow": null,
            "width": null,
            "min_width": null,
            "border": null,
            "align_items": null,
            "bottom": null,
            "_model_module": "@jupyter-widgets/base",
            "top": null,
            "grid_column": null,
            "overflow_y": null,
            "overflow_x": null,
            "grid_auto_flow": null,
            "grid_area": null,
            "grid_template_columns": null,
            "flex": null,
            "_model_name": "LayoutModel",
            "justify_items": null,
            "grid_row": null,
            "max_height": null,
            "align_content": null,
            "visibility": null,
            "align_self": null,
            "height": null,
            "min_height": null,
            "padding": null,
            "grid_auto_rows": null,
            "grid_gap": null,
            "max_width": null,
            "order": null,
            "_view_module_version": "1.2.0",
            "grid_template_areas": null,
            "object_position": null,
            "object_fit": null,
            "grid_auto_columns": null,
            "margin": null,
            "display": null,
            "left": null
          }
        },
        "057bdb25eca542e484da6d5ae126e7f5": {
          "model_module": "@jupyter-widgets/controls",
          "model_name": "TextModel",
          "state": {
            "_view_name": "TextView",
            "style": "IPY_MODEL_b26acafbe7aa48a2a75fde42b39a28ea",
            "_dom_classes": [],
            "description": "String:",
            "_model_name": "TextModel",
            "placeholder": "Query",
            "_view_module": "@jupyter-widgets/controls",
            "_model_module_version": "1.5.0",
            "value": "МАТЬ",
            "_view_count": null,
            "disabled": false,
            "_view_module_version": "1.5.0",
            "continuous_update": true,
            "description_tooltip": null,
            "_model_module": "@jupyter-widgets/controls",
            "layout": "IPY_MODEL_90a71ea80a494bf39da1f0879109baea"
          }
        },
        "b26acafbe7aa48a2a75fde42b39a28ea": {
          "model_module": "@jupyter-widgets/controls",
          "model_name": "DescriptionStyleModel",
          "state": {
            "_view_name": "StyleView",
            "_model_name": "DescriptionStyleModel",
            "description_width": "",
            "_view_module": "@jupyter-widgets/base",
            "_model_module_version": "1.5.0",
            "_view_count": null,
            "_view_module_version": "1.2.0",
            "_model_module": "@jupyter-widgets/controls"
          }
        },
        "90a71ea80a494bf39da1f0879109baea": {
          "model_module": "@jupyter-widgets/base",
          "model_name": "LayoutModel",
          "state": {
            "_view_name": "LayoutView",
            "grid_template_rows": null,
            "right": null,
            "justify_content": null,
            "_view_module": "@jupyter-widgets/base",
            "overflow": null,
            "_model_module_version": "1.2.0",
            "_view_count": null,
            "flex_flow": null,
            "width": null,
            "min_width": null,
            "border": null,
            "align_items": null,
            "bottom": null,
            "_model_module": "@jupyter-widgets/base",
            "top": null,
            "grid_column": null,
            "overflow_y": null,
            "overflow_x": null,
            "grid_auto_flow": null,
            "grid_area": null,
            "grid_template_columns": null,
            "flex": null,
            "_model_name": "LayoutModel",
            "justify_items": null,
            "grid_row": null,
            "max_height": null,
            "align_content": null,
            "visibility": null,
            "align_self": null,
            "height": null,
            "min_height": null,
            "padding": null,
            "grid_auto_rows": null,
            "grid_gap": null,
            "max_width": null,
            "order": null,
            "_view_module_version": "1.2.0",
            "grid_template_areas": null,
            "object_position": null,
            "object_fit": null,
            "grid_auto_columns": null,
            "margin": null,
            "display": null,
            "left": null
          }
        }
      }
    }
  },
  "cells": [
    {
      "cell_type": "markdown",
      "metadata": {
        "ExecuteTime": {
          "end_time": "2020-02-12T17:56:22.948195Z",
          "start_time": "2020-02-12T17:56:22.944176Z"
        },
        "id": "4ffy5hVvrPk6",
        "colab_type": "text"
      },
      "source": [
        "### Lab 2: Hyponyms and Hypernyms"
      ]
    },
    {
      "cell_type": "code",
      "metadata": {
        "ExecuteTime": {
          "end_time": "2020-02-12T14:12:16.470920Z",
          "start_time": "2020-02-12T14:12:15.640262Z"
        },
        "id": "AB36eG2hrPlD",
        "colab_type": "code",
        "outputId": "1889324a-8a0b-46e8-8517-dc6a0d3f70b8",
        "colab": {
          "base_uri": "https://localhost:8080/",
          "height": 173
        }
      },
      "source": [
        "!pip install wikipedia\n",
        "import pandas as pd\n",
        "import wikipedia\n",
        "import os\n",
        "from tqdm import tqdm\n",
        "from joblib import Parallel, delayed\n",
        "import multiprocessing\n",
        "import networkx as nx\n",
        "import matplotlib.pyplot as plt\n",
        "from collections import defaultdict\n",
        "from ipywidgets import interact, interactive, fixed, interact_manual,widgets\n",
        "from IPython.display import display\n",
        "import json\n",
        "num_cores = multiprocessing.cpu_count()\n",
        "print(num_cores)\n",
        "wikipedia.set_lang(\"ru\")\n",
        "# DATA_PATH_LIST = ['D:','src2','taxonomy-enrichment','data','training_data']\n",
        "DATA_PATH_LIST = ['.']\n",
        "EMBEDDING_MODEL_FILENAME = \"wiki_node2vec.bin\"\n",
        "DATA_PATH=\"/\".join(DATA_PATH_LIST+[\"../content/training_nouns.tsv\"])\n",
        "df = pd.read_csv(DATA_PATH,sep='\\t')\n",
        "%matplotlib inline"
      ],
      "execution_count": 15,
      "outputs": [
        {
          "output_type": "stream",
          "text": [
            "Requirement already satisfied: wikipedia in /usr/local/lib/python3.6/dist-packages (1.4.0)\n",
            "Requirement already satisfied: beautifulsoup4 in /usr/local/lib/python3.6/dist-packages (from wikipedia) (4.6.3)\n",
            "Requirement already satisfied: requests<3.0.0,>=2.0.0 in /usr/local/lib/python3.6/dist-packages (from wikipedia) (2.21.0)\n",
            "Requirement already satisfied: urllib3<1.25,>=1.21.1 in /usr/local/lib/python3.6/dist-packages (from requests<3.0.0,>=2.0.0->wikipedia) (1.24.3)\n",
            "Requirement already satisfied: certifi>=2017.4.17 in /usr/local/lib/python3.6/dist-packages (from requests<3.0.0,>=2.0.0->wikipedia) (2019.11.28)\n",
            "Requirement already satisfied: idna<2.9,>=2.5 in /usr/local/lib/python3.6/dist-packages (from requests<3.0.0,>=2.0.0->wikipedia) (2.8)\n",
            "Requirement already satisfied: chardet<3.1.0,>=3.0.2 in /usr/local/lib/python3.6/dist-packages (from requests<3.0.0,>=2.0.0->wikipedia) (3.0.4)\n",
            "2\n"
          ],
          "name": "stdout"
        }
      ]
    },
    {
      "cell_type": "code",
      "metadata": {
        "ExecuteTime": {
          "end_time": "2020-02-12T14:12:16.475780Z",
          "start_time": "2020-02-12T14:12:16.473114Z"
        },
        "id": "qiOE-BljrPlX",
        "colab_type": "code",
        "colab": {}
      },
      "source": [
        "def prestr(x):\n",
        "    return str(x).replace('\\\"','').replace(\"'\",'\"')"
      ],
      "execution_count": 0,
      "outputs": []
    },
    {
      "cell_type": "code",
      "metadata": {
        "ExecuteTime": {
          "end_time": "2020-02-12T14:12:16.685506Z",
          "start_time": "2020-02-12T14:12:16.477634Z"
        },
        "id": "rFdHGtjfrPls",
        "colab_type": "code",
        "colab": {}
      },
      "source": [
        "class DefDict(defaultdict):\n",
        "    def __missing__(self, key):\n",
        "        self[key] = key\n",
        "        return key\n",
        "    \n",
        "idx2syns = DefDict(lambda x:x)\n",
        "for val in df.values:\n",
        "    idx2syns[val[0]]=val[1]\n",
        "    try:\n",
        "        pidxs = json.loads(prestr(val[2]))\n",
        "        concp = [el.split(\",\")[0] for el in json.loads(prestr(val[3]))]\n",
        "        idx2syns.update(dict(zip(pidxs,concp)))\n",
        "    except:\n",
        "        print(prestr(val[2]))\n",
        "        print(prestr(val[3]))"
      ],
      "execution_count": 0,
      "outputs": []
    },
    {
      "cell_type": "markdown",
      "metadata": {
        "ExecuteTime": {
          "end_time": "2020-02-12T17:12:34.060220Z",
          "start_time": "2020-02-12T17:12:34.055235Z"
        },
        "id": "KogiIrklrPl7",
        "colab_type": "text"
      },
      "source": [
        "### Interactive visualization of hyponyms and hypernyms"
      ]
    },
    {
      "cell_type": "code",
      "metadata": {
        "ExecuteTime": {
          "end_time": "2020-02-12T17:11:37.966489Z",
          "start_time": "2020-02-12T17:11:37.931688Z"
        },
        "id": "p4U71IvbrPmI",
        "colab_type": "code",
        "colab": {
          "base_uri": "https://localhost:8080/",
          "height": 288,
          "referenced_widgets": [
            "45c425f9746945ad94238c753253b3ae",
            "c0e3333fcc014c79b3f4bad36c4393ea",
            "85f464381f5b4760983da2e9d538b516",
            "057bdb25eca542e484da6d5ae126e7f5",
            "b26acafbe7aa48a2a75fde42b39a28ea",
            "90a71ea80a494bf39da1f0879109baea"
          ]
        },
        "outputId": "7c5d491d-7d1c-444c-f065-2d95d8dd8565"
      },
      "source": [
        "!pip install pygraphviz\n",
        "button = widgets.Button(description=\"Draw\")\n",
        "query = widgets.Text(\n",
        "    value='МАТЬ',\n",
        "    placeholder='Query',\n",
        "    description='String:',\n",
        "    disabled=False\n",
        ")\n",
        "display(button,query)\n",
        "\n",
        "def creategraph(df):\n",
        "    res = []\n",
        "    for row in df.values:\n",
        "        cohyps = row[1].split(\",\")\n",
        "        for idx,cohyp in enumerate(cohyps):\n",
        "            for parent in json.loads(prestr(row[2])):\n",
        "                res.append((row[0]+'-'+str(idx),parent))\n",
        "    return res\n",
        "\n",
        "def graphdraw(b):\n",
        "    print(\"graphdraw\",query.value)\n",
        "    subset = df[df['TEXT'].str.contains(query.value.upper())]\n",
        "    g = nx.DiGraph()\n",
        "    for el in subset.values:\n",
        "        cohyps = el[1].split(\",\")\n",
        "        print(cohyps)\n",
        "        syns = idx2syns[el[0]]\n",
        "        for child in cohyps:\n",
        "            for parent in json.loads(prestr(el[2])):\n",
        "                ed = g.add_edge(child,idx2syns[parent],label=\"is a\")\n",
        "            \n",
        "    plt.figure(figsize=(15,15))\n",
        "    pos = nx.nx_agraph.graphviz_layout(g)\n",
        "    nx.draw(g,with_labels=True,pos=pos)\n",
        "#     edge_labels=nx.draw_networkx_edge_labels(g,pos=pos)\n",
        "    plt.show()\n",
        "button.on_click(graphdraw)"
      ],
      "execution_count": 18,
      "outputs": [
        {
          "output_type": "stream",
          "text": [
            "Collecting pygraphviz\n",
            "\u001b[?25l  Downloading https://files.pythonhosted.org/packages/7e/b1/d6d849ddaf6f11036f9980d433f383d4c13d1ebcfc3cd09bc845bda7e433/pygraphviz-1.5.zip (117kB)\n",
            "\r\u001b[K     |██▉                             | 10kB 12.3MB/s eta 0:00:01\r\u001b[K     |█████▋                          | 20kB 1.7MB/s eta 0:00:01\r\u001b[K     |████████▍                       | 30kB 2.5MB/s eta 0:00:01\r\u001b[K     |███████████▏                    | 40kB 3.3MB/s eta 0:00:01\r\u001b[K     |██████████████                  | 51kB 2.1MB/s eta 0:00:01\r\u001b[K     |████████████████▊               | 61kB 2.5MB/s eta 0:00:01\r\u001b[K     |███████████████████▌            | 71kB 2.9MB/s eta 0:00:01\r\u001b[K     |██████████████████████▎         | 81kB 3.3MB/s eta 0:00:01\r\u001b[K     |█████████████████████████       | 92kB 3.7MB/s eta 0:00:01\r\u001b[K     |███████████████████████████▉    | 102kB 2.8MB/s eta 0:00:01\r\u001b[K     |██████████████████████████████▋ | 112kB 2.8MB/s eta 0:00:01\r\u001b[K     |████████████████████████████████| 122kB 2.8MB/s \n",
            "\u001b[?25hBuilding wheels for collected packages: pygraphviz\n",
            "  Building wheel for pygraphviz (setup.py) ... \u001b[?25lerror\n",
            "\u001b[31m  ERROR: Failed building wheel for pygraphviz\u001b[0m\n",
            "\u001b[?25h  Running setup.py clean for pygraphviz\n",
            "Failed to build pygraphviz\n",
            "Installing collected packages: pygraphviz\n",
            "    Running setup.py install for pygraphviz ... \u001b[?25l\u001b[?25herror\n",
            "\u001b[31mERROR: Command errored out with exit status 1: /usr/bin/python3 -u -c 'import sys, setuptools, tokenize; sys.argv[0] = '\"'\"'/tmp/pip-install-q8n92ord/pygraphviz/setup.py'\"'\"'; __file__='\"'\"'/tmp/pip-install-q8n92ord/pygraphviz/setup.py'\"'\"';f=getattr(tokenize, '\"'\"'open'\"'\"', open)(__file__);code=f.read().replace('\"'\"'\\r\\n'\"'\"', '\"'\"'\\n'\"'\"');f.close();exec(compile(code, __file__, '\"'\"'exec'\"'\"'))' install --record /tmp/pip-record-vpzdvai8/install-record.txt --single-version-externally-managed --compile Check the logs for full command output.\u001b[0m\n"
          ],
          "name": "stdout"
        },
        {
          "output_type": "display_data",
          "data": {
            "application/vnd.jupyter.widget-view+json": {
              "model_id": "45c425f9746945ad94238c753253b3ae",
              "version_minor": 0,
              "version_major": 2
            },
            "text/plain": [
              "Button(description='Draw', style=ButtonStyle())"
            ]
          },
          "metadata": {
            "tags": []
          }
        },
        {
          "output_type": "display_data",
          "data": {
            "application/vnd.jupyter.widget-view+json": {
              "model_id": "057bdb25eca542e484da6d5ae126e7f5",
              "version_minor": 0,
              "version_major": 2
            },
            "text/plain": [
              "Text(value='МАТЬ', description='String:', placeholder='Query')"
            ]
          },
          "metadata": {
            "tags": []
          }
        }
      ]
    },
    {
      "cell_type": "code",
      "metadata": {
        "ExecuteTime": {
          "end_time": "2020-02-12T11:38:20.619158Z",
          "start_time": "2020-02-12T11:38:20.614734Z"
        },
        "id": "07hOu8KTrPmZ",
        "colab_type": "code",
        "colab": {
          "base_uri": "https://localhost:8080/",
          "height": 150
        },
        "outputId": "418a3122-a718-48a8-af59-c59eba978bd2"
      },
      "source": [
        "### Pattern extractor\n",
        "\n",
        "Yargy — библиотека для извлечения структурированной информации из текстов на русском языке. Правила описываются контекстно-свободными грамматиками и словарями ключевых слов. Банк готовых правил для имён, дат, адресов и других сущностей доступен в репозитории Natasha.\n",
        "* https://yargy.readthedocs.io/ru/latest/\n",
        "* http://pymorphy2.readthedocs.io/en/latest/user/grammemes.html\n",
        "* https://github.com/natasha/natasha"
      ],
      "execution_count": 19,
      "outputs": [
        {
          "output_type": "error",
          "ename": "SyntaxError",
          "evalue": "ignored",
          "traceback": [
            "\u001b[0;36m  File \u001b[0;32m\"<ipython-input-19-236e6764162e>\"\u001b[0;36m, line \u001b[0;32m2\u001b[0m\n\u001b[0;31m    Yargy — библиотека для извлечения структурированной информации из текстов на русском языке. Правила описываются контекстно-свободными грамматиками и словарями ключевых слов. Банк готовых правил для имён, дат, адресов и других сущностей доступен в репозитории Natasha.\u001b[0m\n\u001b[0m          ^\u001b[0m\n\u001b[0;31mSyntaxError\u001b[0m\u001b[0;31m:\u001b[0m invalid character in identifier\n"
          ]
        }
      ]
    },
    {
      "cell_type": "code",
      "metadata": {
        "ExecuteTime": {
          "start_time": "2020-02-12T13:09:50.486Z"
        },
        "id": "XJz-0bw6rPmo",
        "colab_type": "code",
        "colab": {}
      },
      "source": [
        "### Токенизатор"
      ],
      "execution_count": 0,
      "outputs": []
    },
    {
      "cell_type": "code",
      "metadata": {
        "ExecuteTime": {
          "end_time": "2020-02-12T14:12:16.819980Z",
          "start_time": "2020-02-12T14:12:16.708109Z"
        },
        "id": "0PGD2kXjrPmw",
        "colab_type": "code",
        "outputId": "c8d593aa-b02f-4f3b-edf1-543b9179db2b",
        "colab": {
          "base_uri": "https://localhost:8080/",
          "height": 411
        }
      },
      "source": [
        "!pip install yargy\n",
        "\n",
        "from yargy.tokenizer import MorphTokenizer\n",
        "\n",
        "\n",
        "tokenizer = MorphTokenizer()\n",
        "text = '''Ростов-на-Дону\n",
        "Длительностью 18ч. 10мин.\n",
        "Яндекс.Такси\n",
        "π ≈ 3.1415\n",
        "1 500 000$\n",
        "http://vk.com\n",
        "'''\n",
        "for line in text.splitlines():\n",
        "    print([_.value for _ in tokenizer(line)])"
      ],
      "execution_count": 20,
      "outputs": [
        {
          "output_type": "stream",
          "text": [
            "Collecting yargy\n",
            "\u001b[?25l  Downloading https://files.pythonhosted.org/packages/37/64/d6abf637228bed6b0249b522f588d19dca9f09ab65db13bef41096f51889/yargy-0.12.0-py2.py3-none-any.whl (41kB)\n",
            "\u001b[K     |████████████████████████████████| 51kB 2.4MB/s \n",
            "\u001b[?25hCollecting pymorphy2==0.8\n",
            "\u001b[?25l  Downloading https://files.pythonhosted.org/packages/a3/33/fff9675c68b5f6c63ec8c6e6ff57827dda28a1fa5b2c2d727dffff92dd47/pymorphy2-0.8-py2.py3-none-any.whl (46kB)\n",
            "\u001b[K     |████████████████████████████████| 51kB 4.4MB/s \n",
            "\u001b[?25hCollecting backports.functools-lru-cache==1.3\n",
            "  Downloading https://files.pythonhosted.org/packages/d4/40/0b1db94fdfd71353ae67ec444ff28e0a7ecc25212d1cb94c291b6cd226f9/backports.functools_lru_cache-1.3-py2.py3-none-any.whl\n",
            "Collecting dawg-python>=0.7\n",
            "  Downloading https://files.pythonhosted.org/packages/6a/84/ff1ce2071d4c650ec85745766c0047ccc3b5036f1d03559fd46bb38b5eeb/DAWG_Python-0.7.2-py2.py3-none-any.whl\n",
            "Requirement already satisfied: docopt>=0.6 in /usr/local/lib/python3.6/dist-packages (from pymorphy2==0.8->yargy) (0.6.2)\n",
            "Collecting pymorphy2-dicts<3.0,>=2.4\n",
            "\u001b[?25l  Downloading https://files.pythonhosted.org/packages/02/51/2465fd4f72328ab50877b54777764d928da8cb15b74e2680fc1bd8cb3173/pymorphy2_dicts-2.4.393442.3710985-py2.py3-none-any.whl (7.1MB)\n",
            "\u001b[K     |████████████████████████████████| 7.1MB 8.1MB/s \n",
            "\u001b[?25hInstalling collected packages: dawg-python, pymorphy2-dicts, pymorphy2, backports.functools-lru-cache, yargy\n",
            "Successfully installed backports.functools-lru-cache-1.3 dawg-python-0.7.2 pymorphy2-0.8 pymorphy2-dicts-2.4.393442.3710985 yargy-0.12.0\n",
            "['Ростов', '-', 'на', '-', 'Дону']\n",
            "['Длительностью', '18', 'ч', '.', '10', 'мин', '.']\n",
            "['Яндекс', '.', 'Такси']\n",
            "['π', '≈', '3', '.', '1415']\n",
            "['1', '500', '000', '$']\n",
            "['http', ':', '/', '/', 'vk', '.', 'com']\n"
          ],
          "name": "stdout"
        }
      ]
    },
    {
      "cell_type": "markdown",
      "metadata": {
        "ExecuteTime": {
          "end_time": "2020-02-12T13:11:56.582467Z",
          "start_time": "2020-02-12T13:11:56.566175Z"
        },
        "id": "IAJM7g_frPm5",
        "colab_type": "text"
      },
      "source": [
        "# Газеттир\n",
        "Газеттир нужен для удобной работы с последовательностью слов. Например, можно написать:"
      ]
    },
    {
      "cell_type": "code",
      "metadata": {
        "ExecuteTime": {
          "end_time": "2020-02-12T14:12:16.844412Z",
          "start_time": "2020-02-12T14:12:16.821582Z"
        },
        "id": "WPMXZbZYrPm7",
        "colab_type": "code",
        "colab": {}
      },
      "source": [
        "from yargy import or_, rule\n",
        "from yargy.predicates import normalized\n",
        "\n",
        "RULE = or_(\n",
        "    rule(normalized('dvd'), '-', normalized('диск')),\n",
        "    rule(normalized('видео'), normalized('файл'))\n",
        ")"
      ],
      "execution_count": 0,
      "outputs": []
    },
    {
      "cell_type": "code",
      "metadata": {
        "ExecuteTime": {
          "end_time": "2020-02-12T14:12:16.968622Z",
          "start_time": "2020-02-12T14:12:16.846737Z"
        },
        "id": "1m0OxsTwrPnF",
        "colab_type": "code",
        "colab": {
          "base_uri": "https://localhost:8080/",
          "height": 51
        },
        "outputId": "76a9d6f2-2b1a-4c88-cb58-c5dbab90f31e"
      },
      "source": [
        "from yargy import Parser\n",
        "from yargy.pipelines import morph_pipeline\n",
        "\n",
        "\n",
        "RULE = morph_pipeline([\n",
        "    'dvd-диск',\n",
        "    'видео файл',\n",
        "    'видеофильм',\n",
        "    'газета',\n",
        "    'электронный дневник',\n",
        "    'эссе',\n",
        "])\n",
        "\n",
        "parser = Parser(RULE)\n",
        "text = 'Видео файл на dvd-диске'\n",
        "for match in parser.findall(text):\n",
        "    print([_.value for _ in match.tokens])"
      ],
      "execution_count": 22,
      "outputs": [
        {
          "output_type": "stream",
          "text": [
            "['Видео', 'файл']\n",
            "['dvd', '-', 'диске']\n"
          ],
          "name": "stdout"
        }
      ]
    },
    {
      "cell_type": "code",
      "metadata": {
        "ExecuteTime": {
          "end_time": "2020-02-12T14:12:54.576104Z",
          "start_time": "2020-02-12T14:12:54.511149Z"
        },
        "id": "iWHZ3jgGrPnR",
        "colab_type": "code",
        "colab": {
          "base_uri": "https://localhost:8080/",
          "height": 51
        },
        "outputId": "0d252db2-2c8d-4579-8140-98b714033c53"
      },
      "source": [
        "from yargy import Parser, rule, and_\n",
        "from yargy.predicates import gram, is_capitalized, dictionary\n",
        "\n",
        "\n",
        "GEO = rule(\n",
        "    and_(\n",
        "        gram('ADJF'),  # так помечается прилагательное, остальные пометки описаны в\n",
        "                       # http://pymorphy2.readthedocs.io/en/latest/user/grammemes.html\n",
        "        is_capitalized()\n",
        "    ),\n",
        "    gram('ADJF').optional().repeatable(),\n",
        "    dictionary({\n",
        "        'федерация',\n",
        "        'республика'\n",
        "    })\n",
        ")\n",
        "\n",
        "\n",
        "parser = Parser(GEO)\n",
        "text = '''\n",
        "В Чеченской республике на день рождения ...\n",
        "Донецкая народная республика провозгласила ...\n",
        "Башня Федерация — одна из самых высоких ...\n",
        "'''\n",
        "for match in parser.findall(text):\n",
        "    print([_.value for _ in match.tokens])"
      ],
      "execution_count": 23,
      "outputs": [
        {
          "output_type": "stream",
          "text": [
            "['Чеченской', 'республике']\n",
            "['Донецкая', 'народная', 'республика']\n"
          ],
          "name": "stdout"
        }
      ]
    },
    {
      "cell_type": "markdown",
      "metadata": {
        "ExecuteTime": {
          "end_time": "2020-02-12T13:13:57.167613Z",
          "start_time": "2020-02-12T13:13:57.159920Z"
        },
        "id": "AZfBbOjtrPna",
        "colab_type": "text"
      },
      "source": [
        "### Предикаты\n",
        "\n",
        "Предикат — функция, которая принимает на вход токен и возвращает True или False. В Yargy встроено много готовых предикатов. Полный список есть в справочнике. Предикаты комбинируются с помощью and_, or_ и not_."
      ]
    },
    {
      "cell_type": "code",
      "metadata": {
        "ExecuteTime": {
          "end_time": "2020-02-12T14:12:17.173350Z",
          "start_time": "2020-02-12T14:12:17.136108Z"
        },
        "id": "Wghp0FAcrPnc",
        "colab_type": "code",
        "colab": {
          "base_uri": "https://localhost:8080/",
          "height": 51
        },
        "outputId": "40e9c760-c663-4c9d-b6ea-2b264f5f47fd"
      },
      "source": [
        "from yargy import and_, not_\n",
        "from yargy.tokenizer import MorphTokenizer\n",
        "from yargy.predicates import is_capitalized, eq\n",
        "\n",
        "\n",
        "tokenizer = MorphTokenizer()\n",
        "token = next(tokenizer('Стали'))\n",
        "\n",
        "predicate = is_capitalized()\n",
        "print(predicate(token))\n",
        "\n",
        "predicate = and_(\n",
        "    is_capitalized(),\n",
        "    not_(eq('марки'))\n",
        ")\n",
        "print(predicate(token))"
      ],
      "execution_count": 24,
      "outputs": [
        {
          "output_type": "stream",
          "text": [
            "True\n",
            "True\n"
          ],
          "name": "stdout"
        }
      ]
    },
    {
      "cell_type": "markdown",
      "metadata": {
        "ExecuteTime": {
          "end_time": "2020-02-12T13:15:56.600763Z",
          "start_time": "2020-02-12T13:15:56.596609Z"
        },
        "id": "1giGxEG2rPno",
        "colab_type": "text"
      },
      "source": [
        "### Грамматики\n",
        "В Yargy используется специальный DSL для описания грамматик. Любую контекстно-свободную грамматику можно описать с помощью конструкций Питона. Например, есть примитивная грамматика для размеров одежды:\n",
        "\n",
        "KEY -> р. | размер\n",
        "\n",
        "VALUE -> S | M | L\n",
        "\n",
        "SIZE -> KEY VALUE\n",
        "\n"
      ]
    },
    {
      "cell_type": "code",
      "metadata": {
        "ExecuteTime": {
          "end_time": "2020-02-12T14:14:21.602988Z",
          "start_time": "2020-02-12T14:14:21.589310Z"
        },
        "id": "KHmt9EeHrPns",
        "colab_type": "code",
        "colab": {
          "base_uri": "https://localhost:8080/",
          "height": 68
        },
        "outputId": "4bf09f6b-1b33-4d27-fd67-8206f2afe736"
      },
      "source": [
        "from yargy import rule, or_\n",
        "\n",
        "\n",
        "KEY = or_(\n",
        "    rule('р', '.'),\n",
        "    rule('размер')\n",
        ").named('KEY')\n",
        "VALUE = or_(\n",
        "    rule('S'),\n",
        "    rule('M'),\n",
        "    rule('L'),\n",
        "    rule('XS'),\n",
        ").named('VALUE')\n",
        "SIZE = rule(\n",
        "    KEY,\n",
        "    VALUE\n",
        ").named('SIZE')\n",
        "SIZE.normalized.as_bnf"
      ],
      "execution_count": 25,
      "outputs": [
        {
          "output_type": "execute_result",
          "data": {
            "text/plain": [
              "SIZE -> KEY VALUE\n",
              "KEY -> 'р' '.' | 'размер'\n",
              "VALUE -> 'S' | 'M' | 'L' | 'XS'\n"
            ]
          },
          "metadata": {
            "tags": []
          },
          "execution_count": 25
        }
      ]
    },
    {
      "cell_type": "code",
      "metadata": {
        "ExecuteTime": {
          "end_time": "2020-02-12T14:14:27.723857Z",
          "start_time": "2020-02-12T14:14:27.662113Z"
        },
        "id": "1XzgP0TLrPnz",
        "colab_type": "code",
        "colab": {
          "base_uri": "https://localhost:8080/",
          "height": 51
        },
        "outputId": "ef142f69-02fa-4547-d4af-b0263f72b3bb"
      },
      "source": [
        "parser = Parser(\n",
        "    SIZE\n",
        ")\n",
        "text = 'размер M; размер A; размер XS;'\n",
        "for match in parser.findall(text):\n",
        "    print([_.value for _ in match.tokens])"
      ],
      "execution_count": 26,
      "outputs": [
        {
          "output_type": "stream",
          "text": [
            "['размер', 'M']\n",
            "['размер', 'XS']\n"
          ],
          "name": "stdout"
        }
      ]
    },
    {
      "cell_type": "code",
      "metadata": {
        "ExecuteTime": {
          "end_time": "2020-02-12T14:12:19.308726Z",
          "start_time": "2020-02-12T14:12:17.354354Z"
        },
        "id": "6JGihHelrPn8",
        "colab_type": "code",
        "colab": {}
      },
      "source": [
        "from yargy import Parser, rule, and_, or_, not_\n",
        "from yargy.interpretation import fact, attribute\n",
        "from yargy.predicates import gram, is_capitalized, dictionary, eq\n",
        "import re\n",
        "import pandas as pd\n",
        "from tqdm import tqdm_notebook\n",
        "from gensim import utils"
      ],
      "execution_count": 0,
      "outputs": []
    },
    {
      "cell_type": "code",
      "metadata": {
        "ExecuteTime": {
          "end_time": "2020-02-12T14:12:19.323139Z",
          "start_time": "2020-02-12T14:12:19.310769Z"
        },
        "id": "l-xRexdgrPoJ",
        "colab_type": "code",
        "colab": {}
      },
      "source": [
        "\n",
        "START = rule(\n",
        "    or_(\n",
        "        rule(gram('ADJF')),\n",
        "        rule(gram('NOUN'))\n",
        "    ).optional(),\n",
        "    gram('NOUN')\n",
        ")\n",
        "\n",
        "START_S = or_(\n",
        "    eq('такой'),\n",
        "    eq('такие'),\n",
        ")\n",
        "\n",
        "KAK = eq('как')\n",
        "INCLUDING = or_(\n",
        "    or_(\n",
        "        eq('в'),\n",
        "        eq('том'),\n",
        "        eq('числе'),\n",
        "    ),\n",
        "    eq('включающий'),\n",
        "    or_(\n",
        "        eq('включающий'),\n",
        "        eq('в'),\n",
        "        eq('себя'),\n",
        "    ),\n",
        "    or_(\n",
        "        eq('включающие'),\n",
        "        eq('в'),\n",
        "        eq('себя'),\n",
        "    ),\n",
        "    eq('включающие'),\n",
        "    eq('особенно'),\n",
        "\n",
        ")\n",
        "\n",
        "MID_S = or_(\n",
        "    rule(\n",
        "        or_(\n",
        "            eq('такой'),\n",
        "            eq('такие'),\n",
        "        ),\n",
        "        eq('как')\n",
        "    )\n",
        ")\n",
        "ATAKJE = rule(\n",
        "    eq(','),\n",
        "    eq('а'),\n",
        "    eq('также')\n",
        ")\n",
        "\n",
        "MID = or_(\n",
        "    rule(\n",
        "        eq('это')\n",
        "    ),\n",
        "    rule(\n",
        "        eq('—')\n",
        "    ),\n",
        "    rule(\n",
        "        eq('—'),\n",
        "        eq('это')\n",
        "    ),\n",
        "    rule(\n",
        "        eq('—'),\n",
        "        not_(eq('км'))\n",
        "    ),\n",
        "    rule(\n",
        "        or_(\n",
        "            eq('и'),\n",
        "            eq('или'),\n",
        "        ),\n",
        "        eq('другие')\n",
        "    )\n",
        ")\n",
        "\n",
        "END = or_(\n",
        "    rule(\n",
        "        gram('NOUN'),\n",
        "        gram('NOUN')\n",
        "    ),\n",
        "    rule(\n",
        "        gram('ADJF').repeatable(),\n",
        "        gram('NOUN')\n",
        "    ),\n",
        "    rule(\n",
        "        gram('ADJF'),\n",
        "        gram('ADJF').repeatable(),\n",
        "        gram('NOUN')\n",
        "    ),\n",
        "    rule(\n",
        "        gram('NOUN').repeatable(),\n",
        "        gram('ADJF'),\n",
        "        gram('NOUN').repeatable()\n",
        "    ),\n",
        "    rule(\n",
        "        gram('NOUN').repeatable()\n",
        "    )\n",
        ")\n",
        "\n",
        "Item = fact(\n",
        "    'Item',\n",
        "    [attribute('titles').repeatable()]\n",
        ")\n",
        "\n",
        "\n",
        "IGNORE = rule(\n",
        "    '(',\n",
        "    not_(eq(')')).repeatable(),\n",
        "    ')'\n",
        ")\n",
        "\n",
        "ITEM = rule(\n",
        "    IGNORE.interpretation(\n",
        "        Item.titles\n",
        "    ),\n",
        "    eq(',').optional() \n",
        ").repeatable().interpretation(\n",
        "    Item\n",
        ")"
      ],
      "execution_count": 0,
      "outputs": []
    },
    {
      "cell_type": "code",
      "metadata": {
        "ExecuteTime": {
          "end_time": "2020-02-12T14:12:19.434702Z",
          "start_time": "2020-02-12T14:12:19.324707Z"
        },
        "id": "SesNB-n1rPoQ",
        "colab_type": "code",
        "colab": {}
      },
      "source": [
        "def get_hyperonyms(main_word):\n",
        "    HYPONYM = eq(utils.deaccent(main_word))\n",
        "    RULE = or_(\n",
        "        rule(HYPONYM, ATAKJE, START, MID, END),\n",
        "        rule(HYPONYM, MID, END),\n",
        "        rule(START_S, END, KAK, HYPONYM),\n",
        "        rule(END, INCLUDING, HYPONYM)\n",
        "    )\n",
        "    parser = Parser(RULE) \n",
        "    text = utils.deaccent(wikipedia.summary(main_word))\n",
        "    print(text)\n",
        "    text = re.sub(r'\\(.+?\\)', '', text)\n",
        "    text = text.lower().replace('* сергии радонежскии* ', '')\n",
        "    for idx, match in enumerate(parser.findall(text.lower())):\n",
        "        k = [_.value for _ in match.tokens]\n",
        "        print(k)"
      ],
      "execution_count": 0,
      "outputs": []
    },
    {
      "cell_type": "code",
      "metadata": {
        "ExecuteTime": {
          "end_time": "2020-02-12T14:12:22.648500Z",
          "start_time": "2020-02-12T14:12:19.437840Z"
        },
        "id": "nChBzAd6rPoY",
        "colab_type": "code",
        "colab": {
          "base_uri": "https://localhost:8080/",
          "height": 122
        },
        "outputId": "ff941336-0ddc-46f9-9b9e-a7f3b5584b69"
      },
      "source": [
        "get_hyperonyms(\"банан\")"
      ],
      "execution_count": 30,
      "outputs": [
        {
          "output_type": "stream",
          "text": [
            "Банан — название съедобных плодов культивируемых растении рода Банан (Musa); обычно под таковыми понимают Musa acuminata и Musa × paradisiaca, а также Musa balbisiana, Musa fehi, Musa troglodytarum и ряд других. Также бананами могут называть плоды Ensete ventricosum (строго говоря, являющегося представителем другого рода семеиства Банановые). С ботаническои точки зрения банан является ягодои, многосеменнои и толстокожеи. У культурных форм часто отсутствуют семена, ненужные при вегетативном размножении. Плоды имеют длину 6—30 см и диаметр 2—5 см. Соплодия могут состоять из 300 плодов и иметь массу до 50—60 кг.\n",
            "Бананы — одна из древнеиших пищевых культур, а для тропических стран важнеишее пищевое растение и главная статья экспорта. Спелые бананы широко употребляются в пищу по всему миру, их используют при приготовлении большого количества блюд. Помимо употребления в свежем виде, в кухне некоторых народов бананы могут зажариваться, или вариться как в очищенном, так и в неочищенном виде. Их также сушат, консервируют, используют для приготовления банановои муки, мармелада, сиропов, вин. Бананы применяются также в качестве корма для скота. Запах бананов определяют изовалерианово-изоамиловыи и уксусно-изоамиловыи эфиры. Выращиваются в тропических и субтропических раионах с жарким влажным климатом. Существует большое число сортов съедобных видов банана.\n",
            "Размер, цвет и форма могут значительно различаться в зависимости от вида или сорта, но чаще всего они имеют продолговатую цилиндрическую или трехгранную форму, выпрямленную либо закругленную. Длина плода варьирует в пределах от 3 до 40 см, толщина — от 2 до 8 см. Цвет кожицы может быть желтым, зеленым, красным или даже серебристым. Мякоть белая, кремовая, желтая или оранжевая. В незрелом состоянии она твердая и клеикая, но по мере созревания становится мягкои и сочнои.\n",
            "Во многих странах бананы являются одним из основных источников питания — например, только в Эквадоре годовое потребление этого продукта составляет 73,8 кг на душу населения (для сравнения, в России этот показатель равен 7,29 кг). Существенную долю потребления бананы также составляют в Бурунди (189,4 кг), Самоа (85,0 кг), Коморских Островах (77,8 кг) и на Филиппинах (40,6 кг).\n",
            "['банан', '—', 'название', 'съедобных', 'плодов']\n"
          ],
          "name": "stdout"
        }
      ]
    },
    {
      "cell_type": "markdown",
      "metadata": {
        "id": "tOH6U1aIrPoe",
        "colab_type": "text"
      },
      "source": [
        "#### Task 1 (deadline 19.02.2020 24:00)\n",
        "* Find your name on the spreadsheet https://docs.google.com/spreadsheets/d/1RR2I6toCkebbGU1UK83HS70Ru_l0_o-nnZIHyiFB0No/edit?usp=sharing. In opposite of your name there are 24 words of hyponyms, you have to insert five corresponding hypernyms next to them. Examples of hyponyms and hyperonyms relationship you can find above in the current Jupiter notebook.\n",
        "* Find for each pair of hyponyms and hypernyms a corresponding snippet of a text with their mentions. The source of the text can be any free resources, e.g., Wikipedia, Google, Yandex, others. You should save the snippets and their URLs within the lab2 folder in your NLP git-repo with .csv file-extension in a single file.\n",
        "\n",
        "#### Task 2 (deadline 26.02.2020 24:00)\n",
        "* It would be best if you created a pandas DataFrame of the texts from the previous task. And apply to the DataFrame the function 'get_hyperonyms,' which must return the list of the corresponding hypernyms from the text automatically. If there are errors or misses, you should fix them in the code for your case of the 24 words. Nevertheless, it is strictly prohibited to use hard coding. Save your notebook with parser code within the lab2 folder in your NLP git-repo."
      ]
    },
    {
      "cell_type": "code",
      "metadata": {
        "id": "ifIkUb8QrPog",
        "colab_type": "code",
        "outputId": "17365aa7-a03e-42a1-ef66-2bebaaa5245c",
        "colab": {
          "base_uri": "https://localhost:8080/",
          "height": 204
        }
      },
      "source": [
        "import pandas as pd\n",
        "homework_data = pd.read_excel('/content/Yernaz_Words(1).xlsx', sheet_name='Лист1')\n",
        "\n",
        "homework_data.head()"
      ],
      "execution_count": 31,
      "outputs": [
        {
          "output_type": "execute_result",
          "data": {
            "text/html": [
              "<div>\n",
              "<style scoped>\n",
              "    .dataframe tbody tr th:only-of-type {\n",
              "        vertical-align: middle;\n",
              "    }\n",
              "\n",
              "    .dataframe tbody tr th {\n",
              "        vertical-align: top;\n",
              "    }\n",
              "\n",
              "    .dataframe thead th {\n",
              "        text-align: right;\n",
              "    }\n",
              "</style>\n",
              "<table border=\"1\" class=\"dataframe\">\n",
              "  <thead>\n",
              "    <tr style=\"text-align: right;\">\n",
              "      <th></th>\n",
              "      <th>1</th>\n",
              "      <th>HYPONYM</th>\n",
              "    </tr>\n",
              "  </thead>\n",
              "  <tbody>\n",
              "    <tr>\n",
              "      <th>0</th>\n",
              "      <td>2</td>\n",
              "      <td>ИЗЫСКАТЕЛЬ</td>\n",
              "    </tr>\n",
              "    <tr>\n",
              "      <th>1</th>\n",
              "      <td>3</td>\n",
              "      <td>ИЗЮБР</td>\n",
              "    </tr>\n",
              "    <tr>\n",
              "      <th>2</th>\n",
              "      <td>4</td>\n",
              "      <td>ИКОНКА</td>\n",
              "    </tr>\n",
              "    <tr>\n",
              "      <th>3</th>\n",
              "      <td>5</td>\n",
              "      <td>ИКОНОБОРЧЕСТВО</td>\n",
              "    </tr>\n",
              "    <tr>\n",
              "      <th>4</th>\n",
              "      <td>6</td>\n",
              "      <td>ИНДУКТОР</td>\n",
              "    </tr>\n",
              "  </tbody>\n",
              "</table>\n",
              "</div>"
            ],
            "text/plain": [
              "   1         HYPONYM\n",
              "0  2      ИЗЫСКАТЕЛЬ\n",
              "1  3           ИЗЮБР\n",
              "2  4          ИКОНКА\n",
              "3  5  ИКОНОБОРЧЕСТВО\n",
              "4  6        ИНДУКТОР"
            ]
          },
          "metadata": {
            "tags": []
          },
          "execution_count": 31
        }
      ]
    },
    {
      "cell_type": "code",
      "metadata": {
        "id": "QmHQOcTkrPop",
        "colab_type": "code",
        "outputId": "1d7eeda9-aa2b-4633-84c5-671d11857281",
        "colab": {
          "base_uri": "https://localhost:8080/",
          "height": 904
        }
      },
      "source": [
        "print('Гиперонимы для слова: ', 'ИЗЫСКАТЕЛЬ')\n",
        "print('\\n')\n",
        "get_hyperonyms('ИЗЫСКАТЕЛЬ')\n",
        "print('\\n\\n')\n",
        "\n",
        "print('Гиперонимы для слова: ', 'ИЗЮБР')\n",
        "print('\\n')\n",
        "get_hyperonyms('ИЗЮБР')\n",
        "print('\\n\\n')\n",
        "\n",
        "print('Гиперонимы для слова: ', 'ИКОНКА')\n",
        "print('\\n')\n",
        "get_hyperonyms('ИКОНКА')\n",
        "print('\\n\\n')\n",
        "\n",
        "print('Гиперонимы для слова: ', 'ИНТЕГРАТОР')\n",
        "print('\\n')\n",
        "get_hyperonyms('ИНТЕГРАТОР')\n",
        "print('\\n\\n')\n",
        "\n",
        "print('Гиперонимы для слова: ', 'ИНСТРУМЕНТАЛЬЩИК')\n",
        "print('\\n')\n",
        "get_hyperonyms('ИНСТРУМЕНТАЛЬЩИК')\n",
        "print('\\n\\n')\n",
        "\n",
        "print('Гиперонимы для слова: ', 'ИНФУЗОРИЯ')\n",
        "print('\\n')\n",
        "get_hyperonyms('ИНФУЗОРИЯ')\n",
        "print('\\n\\n')"
      ],
      "execution_count": 39,
      "outputs": [
        {
          "output_type": "stream",
          "text": [
            "Гиперонимы для слова:  ИЗЫСКАТЕЛЬ\n",
            "\n",
            "\n",
            "Чимичурри (исп. chimichurri) — латиноамериканскии соус для жареного мяса. Рецепт чимичурри придуман в Аргентине; также соус готовят в Перу, Уругвае, Бразилии, Боливии, Никарагуа, Эквадоре, Колумбии и Мексике.\n",
            "\n",
            "\n",
            "\n",
            "Гиперонимы для слова:  ИЗЮБР\n",
            "\n",
            "\n",
            "Изюбрь или изюбр (Cervus elaphus xanthopygus) — восточноазиатскии настоящии олень. Подвид благородного оленя. \n",
            "Впервые описан в 1869 году, в окрестностях Пекина. Обитает в Россиискои Федерации (Иркутская область, Забаикалье, Дальнии Восток) и в Китае (Северная Маньчжурия), встречается в Корее и Северном Китае до реки Хуанхэ.\n",
            "Летом изюбрь держится по теневым склонам лесистых гор, а зимои — по солнцепекам и в долинах, среди равниннои таиги, где поляны чередуются с перелесками. Любимыи летнии корм изюбря составляет леспедеца, а зимои — молодые побеги осины, тополя и низкорослои березы.\n",
            "\n",
            "\n",
            "\n",
            "Гиперонимы для слова:  ИКОНКА\n",
            "\n",
            "\n",
            "Икона (ср.-греч. εικονα, др.-греч. εικων — «образ», «изображение») — в христианстве (главным образом, в православии, католицизме и древневосточных церквях) священное изображение лиц или событии библеискои или церковнои истории.\n",
            "В искусствоведении иконами обычно называются изображения, выполненные в рамках восточнохристианскои традиции на твердои поверхности (преимущественно на липовои доске, покрытои левкасом, то есть алебастром, разведенным с жидким клеем) и снабженные специальными надписями и знаками. Однако с богословскои и религиоведческои точки зрения иконами являются также мозаичные, живописные и скульптурные изображения в любои художественнои манере, являющиеся объектом почитания согласно определению Седьмого Вселенского собора:\n",
            "\n",
            "…подобно изображению честного и животворящего Креста, полагать во святых Божиих церквах, на священных сосудах и одеждах, на стенах и на досках, в домах и на путях, честные и святые иконы, написанные красками и сделанные из мозаики и из другого пригодного к этому вещества, иконы Господа и Бога и Спаса Нашего Иисуса Христа, непорочные Владычицы нашея Святыя Богородицы, также и честных ангелов и всех святых и преподобных мужеи. Ибо, чем чаще через изображение на иконах они бывают видимы, тем более взирающие на них побуждаются к воспоминанию о самих первообразах и к любви к ним и к тому, чтобы чествовать их лобызанием и почитательным поклонением (τιμιτικην προσκυνησιν), не тем истинным по нашеи вере служением (λατρειαν), которое приличествует одному только Божескому естеству, но почитанием по тому же образцу, как оно воздается изображению честного и животворящего Креста и святому евангелию, и прочим святыням, фимиамом и поставлением свечеи, как делалось это по благочестивому обычаю и древними. Ибо честь, воздаваемая образу, восходит к первообразу, и поклоняющиися (ο προσκυνων) иконе поклоняется (προσκυνει) ипостаси изображенного на неи.\n",
            "\n",
            "\n",
            "\n",
            "Гиперонимы для слова:  ИНТЕГРАТОР\n",
            "\n",
            "\n",
            "Интегратор, блок интегрирования — техническое устроиство, выходнои сигнал (выходная величина, выходнои параметр) которого пропорционален интегралу, обычно по времени, от входного сигнала.\n",
            "По виду представления выходнои величины (сигнала) интеграторы подразделяются на аналоговые и цифровые.\n",
            "При конструировании интеграторов применяются различные явления: электрические, пневматические, гидравлические, электрохимические и др.\n",
            "Применяются при аналоговом и цифровом моделировании различных процессов, навигационных приборах, автоматике, обработке и преобразовании сигналов, то есть везде, где требуется получить решения дифференциальных уравнении.\n",
            "Практически, наиболее часто интеграторы используются для учета использования некоторого ресурса. Например, бытовые счетчики электроэнергии, бытового газа, водопроводнои воды являются интеграторами. Также интеграторы это различные одометры.\n",
            "\n",
            "\n",
            "\n",
            "Гиперонимы для слова:  ИНСТРУМЕНТАЛЬЩИК\n",
            "\n",
            "\n",
            "Красныи инструментальщик— инструментальныи завод в городе Кирове. Полное наименование— Кировскии завод „Красныи инструментальщик”\n",
            "\n",
            "\n",
            "\n",
            "Гиперонимы для слова:  ИНФУЗОРИЯ\n",
            "\n",
            "\n",
            "Инфузории, или ресничные (лат. Ciliophora) — тип протистов из группы Alveolata. Есть подвижные и прикрепленные формы, одиночные и колониальные. Форма тела инфузории может быть разнообразнои, размеры одиночных форм от 10 мкм до 4,5 мм. Живут в морях и пресных водоемах в составе бентоса и планктона, некоторые виды — в интерстициали, почве и во мхах. Многие инфузории — комменсалы, симбионты и паразиты животных: кольчатых червеи, моллюсков, рыб, земноводных, млекопитающих. Некоторые инфузории, например, инфузория-туфелька, Tetrahymena, Oxytricha trifallax являются модельными организмами молекулярнои биологии. Название «инфузория» происходит от лат. infusum («настоика») по месту первоначального обнаружения простеиших — в травяных настоиках:16.\n",
            "\n",
            "\n",
            "\n"
          ],
          "name": "stdout"
        }
      ]
    },
    {
      "cell_type": "code",
      "metadata": {
        "id": "OC9Wm_jXrPoz",
        "colab_type": "code",
        "colab": {}
      },
      "source": [
        ""
      ],
      "execution_count": 0,
      "outputs": []
    }
  ]
}